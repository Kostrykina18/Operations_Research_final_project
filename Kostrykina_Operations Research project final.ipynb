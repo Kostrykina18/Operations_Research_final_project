{
 "cells": [
  {
   "cell_type": "code",
   "execution_count": 93,
   "metadata": {},
   "outputs": [],
   "source": [
    "from collections import defaultdict"
   ]
  },
  {
   "cell_type": "code",
   "execution_count": 94,
   "metadata": {},
   "outputs": [],
   "source": [
    "class Graph:\n",
    "    def __init__(self, num_nodes):\n",
    "        self.num_nodes = num_nodes\n",
    "        self.adj_list = defaultdict(dict)\n",
    "        self.flow_values = defaultdict(int)\n",
    "\n",
    "    def add_edge(self, u, v, capacity, cost):\n",
    "        self.adj_list[u][v] = {'capacity': capacity, 'cost': cost}\n",
    "        self.adj_list[v][u] = {'capacity': 0, 'cost': -cost}  # Residual edge\n",
    "\n",
    "    def dijkstra(self, source, sink):\n",
    "        distance = [float('inf')] * self.num_nodes\n",
    "        distance[source] = 0\n",
    "        prev = [-1] * self.num_nodes\n",
    "        visited = [False] * self.num_nodes\n",
    "\n",
    "        while True:\n",
    "            min_distance = float('inf')\n",
    "            u = -1\n",
    "            for v in range(self.num_nodes):\n",
    "                if not visited[v] and distance[v] < min_distance:\n",
    "                    min_distance = distance[v]\n",
    "                    u = v\n",
    "\n",
    "            if u == -1:\n",
    "                break\n",
    "\n",
    "            visited[u] = True\n",
    "\n",
    "            for v in self.adj_list[u]:\n",
    "                edge = self.adj_list[u][v]\n",
    "                if edge['capacity'] > 0 and distance[u] + edge['cost'] < distance[v]:\n",
    "                    distance[v] = distance[u] + edge['cost']\n",
    "                    prev[v] = u\n",
    "\n",
    "        return distance, prev\n",
    "\n",
    "    def augment_path(self, source, sink, prev):\n",
    "        v = sink\n",
    "        path_capacity = float('inf')\n",
    "        while v != source:\n",
    "            u = prev[v]\n",
    "            edge = self.adj_list[u][v]\n",
    "            path_capacity = min(path_capacity, edge['capacity'])\n",
    "            v = u\n",
    "\n",
    "        v = sink\n",
    "        while v != source:\n",
    "            u = prev[v]\n",
    "            self.flow_values[(u, v)] += path_capacity\n",
    "            self.flow_values[(v, u)] -= path_capacity\n",
    "            self.adj_list[u][v]['capacity'] -= path_capacity\n",
    "            self.adj_list[v][u]['capacity'] += path_capacity\n",
    "            v = u\n",
    "\n",
    "    def max_flow(self, source, sink):\n",
    "        while True:\n",
    "            distance, prev = self.dijkstra(source, sink)\n",
    "            if prev[sink] == -1:\n",
    "                break\n",
    "            self.augment_path(source, sink, prev)\n",
    "\n",
    "        max_flow_value = sum(self.flow_values[(source, v)] for v in self.adj_list[source])\n",
    "        return max_flow_value\n",
    "\n",
    "    def find_min_cut(self, source):\n",
    "        visited = [False] * self.num_nodes\n",
    "        queue = [source]\n",
    "        visited[source] = True\n",
    "\n",
    "        while queue:\n",
    "            u = queue.pop(0)\n",
    "            for v in self.adj_list[u]:\n",
    "                if self.adj_list[u][v]['capacity'] > 0 and not visited[v]:\n",
    "                    visited[v] = True\n",
    "                    queue.append(v)\n",
    "\n",
    "        min_cut = []\n",
    "        for u in range(self.num_nodes):\n",
    "            for v in self.adj_list[u]:\n",
    "                if visited[u] and not visited[v]:\n",
    "                    min_cut.append((u, v))\n",
    "\n",
    "        return min_cut\n",
    "\n",
    "    def min_cost_max_flow(self, source, sink):\n",
    "        max_flow_value = self.max_flow(source, sink)\n",
    "        min_cost_value = sum(self.flow_values[(u, v)] * self.adj_list[u][v]['cost']\n",
    "                             for u in self.adj_list for v in self.adj_list[u])\n",
    "\n",
    "        return max_flow_value, min_cost_value"
   ]
  },
  {
   "cell_type": "code",
   "execution_count": 95,
   "metadata": {},
   "outputs": [],
   "source": [
    "def read_graph_from_file(file_path):\n",
    "    with open(file_path, 'r') as file:\n",
    "        num_nodes, num_arcs, source_node, sink_node = map(int, file.readline().split())\n",
    "        graph = Graph(num_nodes)\n",
    "\n",
    "        for _ in range(num_arcs):\n",
    "            u, v, capacity, cost = map(int, file.readline().split())\n",
    "            graph.add_edge(u, v, capacity, cost)\n",
    "\n",
    "        # Add the (sink, source) arc if not already present\n",
    "        if sink_node not in graph.adj_list[source_node]:\n",
    "            graph.add_edge(sink_node, source_node, 0, 0)\n",
    "\n",
    "    return num_nodes, source_node, sink_node, graph"
   ]
  },
  {
   "cell_type": "markdown",
   "metadata": {},
   "source": [
    "## Read graph from file"
   ]
  },
  {
   "cell_type": "markdown",
   "metadata": {},
   "source": [
    "Change path to the file with a graph."
   ]
  },
  {
   "cell_type": "code",
   "execution_count": 96,
   "metadata": {},
   "outputs": [],
   "source": [
    "file_path = 'graph.txt'\n",
    "num_nodes, source_node, sink_node, graph = read_graph_from_file(file_path)"
   ]
  },
  {
   "cell_type": "markdown",
   "metadata": {},
   "source": [
    "## Maximum Flow"
   ]
  },
  {
   "cell_type": "markdown",
   "metadata": {},
   "source": [
    "Implementation of maximum flow algorithm for a graph given by a text file. The result is the max flow value and the list of flow values traversing each arc."
   ]
  },
  {
   "cell_type": "code",
   "execution_count": 97,
   "metadata": {},
   "outputs": [
    {
     "name": "stdout",
     "output_type": "stream",
     "text": [
      "Maximum Flow: 24\n",
      "Flow Values Traversing Each Arc: defaultdict(<class 'int'>, {(5, 6): 6, (6, 5): -6, (3, 5): 6, (5, 3): -6, (0, 3): 13, (3, 0): -13, (4, 6): 18, (6, 4): -18, (1, 4): 10, (4, 1): -10, (0, 1): 11, (1, 0): -11, (2, 4): 8, (4, 2): -8, (3, 2): 7, (2, 3): -7, (1, 2): 1, (2, 1): -1, (0, 6): 0})\n"
     ]
    }
   ],
   "source": [
    "max_flow_value = graph.max_flow(source_node, sink_node)\n",
    "flow_values = graph.flow_values\n",
    "print(\"Maximum Flow:\", max_flow_value)\n",
    "print(\"Flow Values Traversing Each Arc:\", flow_values)"
   ]
  },
  {
   "cell_type": "markdown",
   "metadata": {},
   "source": [
    "## Minimum Cut"
   ]
  },
  {
   "cell_type": "markdown",
   "metadata": {},
   "source": [
    "Implementation of algorithm computing a minimum cut for a graph given by a text file. The result is the list of arcs that form a minimum cut."
   ]
  },
  {
   "cell_type": "code",
   "execution_count": 98,
   "metadata": {},
   "outputs": [
    {
     "name": "stdout",
     "output_type": "stream",
     "text": [
      "Minimum Cut: [(0, 6), (1, 4), (2, 4), (5, 6)]\n"
     ]
    }
   ],
   "source": [
    "min_cut = graph.find_min_cut(source_node)\n",
    "print(\"Minimum Cut:\", min_cut)"
   ]
  },
  {
   "cell_type": "markdown",
   "metadata": {},
   "source": [
    "## Maximum Flow Minimum Cost"
   ]
  },
  {
   "cell_type": "markdown",
   "metadata": {},
   "source": [
    "Implementation of maximum flow minimum cost algorithm for a graph given by a text file. The result is the max flow value, the minimum cost value, and the list of flow values traversing each arc."
   ]
  },
  {
   "cell_type": "code",
   "execution_count": 99,
   "metadata": {},
   "outputs": [
    {
     "name": "stdout",
     "output_type": "stream",
     "text": [
      "Maximum Flow: 24\n",
      "Minimum Cost: 8636\n",
      "Flow Values Traversing Each Arc: defaultdict(<class 'int'>, {(5, 6): 6, (6, 5): -6, (3, 5): 6, (5, 3): -6, (0, 3): 13, (3, 0): -13, (4, 6): 18, (6, 4): -18, (1, 4): 10, (4, 1): -10, (0, 1): 11, (1, 0): -11, (2, 4): 8, (4, 2): -8, (3, 2): 7, (2, 3): -7, (1, 2): 1, (2, 1): -1, (0, 6): 0, (6, 0): 0})\n"
     ]
    }
   ],
   "source": [
    "max_flow_value, min_cost_value = graph.min_cost_max_flow(source_node, sink_node)\n",
    "print(\"Maximum Flow:\", max_flow_value)\n",
    "print(\"Minimum Cost:\", min_cost_value)\n",
    "print(\"Flow Values Traversing Each Arc:\", flow_values)"
   ]
  },
  {
   "cell_type": "code",
   "execution_count": null,
   "metadata": {},
   "outputs": [],
   "source": []
  },
  {
   "cell_type": "code",
   "execution_count": null,
   "metadata": {},
   "outputs": [],
   "source": []
  },
  {
   "cell_type": "code",
   "execution_count": null,
   "metadata": {},
   "outputs": [],
   "source": []
  }
 ],
 "metadata": {
  "kernelspec": {
   "display_name": "Python 3",
   "language": "python",
   "name": "python3"
  },
  "language_info": {
   "codemirror_mode": {
    "name": "ipython",
    "version": 3
   },
   "file_extension": ".py",
   "mimetype": "text/x-python",
   "name": "python",
   "nbconvert_exporter": "python",
   "pygments_lexer": "ipython3",
   "version": "3.8.5"
  }
 },
 "nbformat": 4,
 "nbformat_minor": 4
}
